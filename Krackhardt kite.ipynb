{
 "cells": [
  {
   "cell_type": "code",
   "execution_count": 1,
   "id": "processed-language",
   "metadata": {},
   "outputs": [],
   "source": [
    "# Subject: DATA620 \n",
    "# Name: Gracie Han\n",
    "import matplotlib.pyplot as plt # for drawing the graph\n",
    "import networkx as nx # making the graph structure"
   ]
  },
  {
   "cell_type": "code",
   "execution_count": 2,
   "id": "dressed-ethnic",
   "metadata": {},
   "outputs": [],
   "source": [
    "g = nx.Graph() # creating empty graph"
   ]
  },
  {
   "cell_type": "markdown",
   "id": "academic-jumping",
   "metadata": {},
   "source": [
    "As we are creating the Krackhardt Kite Graph we have following observations\n",
    "10 nodes\n",
    "18 edges"
   ]
  },
  {
   "cell_type": "code",
   "execution_count": 3,
   "id": "regular-consolidation",
   "metadata": {},
   "outputs": [
    {
     "name": "stdout",
     "output_type": "stream",
     "text": [
      "Number of Nodes:\n",
      "10\n",
      "Names of the Nodes:\n",
      "['Andre', 'Beverly', 'Carol', 'Diane', 'Ed', 'Fernando', 'Garth', 'Heather', 'Ike', 'Jane']\n"
     ]
    }
   ],
   "source": [
    "nodes = ['Andre','Beverly', 'Carol', 'Diane', 'Ed', 'Fernando','Garth','Heather','Ike', 'Jane'] # the nodes have been listed in alphabetic order\n",
    "# adding nodes to graph\n",
    "g.add_nodes_from(nodes)\n",
    "# checking number of node which should be 10\n",
    "print(\"Number of Nodes:\")\n",
    "print(g.number_of_nodes())\n",
    "print(\"Names of the Nodes:\")\n",
    "print(g.nodes)"
   ]
  },
  {
   "cell_type": "code",
   "execution_count": 4,
   "id": "alternative-priest",
   "metadata": {},
   "outputs": [
    {
     "name": "stdout",
     "output_type": "stream",
     "text": [
      "Number of Edges:\n",
      "18\n"
     ]
    }
   ],
   "source": [
    "# adding edges for Andre\n",
    "g.add_edge('Andre', 'Beverly')\n",
    "g.add_edge('Andre', 'Carol')\n",
    "g.add_edge('Andre', 'Diane')\n",
    "g.add_edge('Andre', 'Ed')\n",
    "g.add_edge('Andre', 'Fernando')\n",
    "g.add_edge('Andre', 'Garth')\n",
    "# adding edges for Beverly\n",
    "g.add_edge('Beverly', 'Diane')\n",
    "g.add_edge('Beverly', 'Ed')\n",
    "g.add_edge('Beverly', 'Garth')\n",
    "# adding edges for Carol\n",
    "g.add_edge('Carol', 'Diane')\n",
    "g.add_edge('Carol', 'Fernando')\n",
    "# adding edges for Diane\n",
    "g.add_edge('Diane', 'Ed')\n",
    "g.add_edge('Diane', 'Fernando')\n",
    "g.add_edge('Diane', 'Garth')\n",
    "# adding edges for Ed\n",
    "g.add_edge('Diane', 'Garth')\n",
    "# adding edges for Fernando\n",
    "g.add_edge('Fernando', 'Garth')\n",
    "g.add_edge('Fernando', 'Heather')\n",
    "# adding edges for Heather\n",
    "g.add_edge('Fernando', 'Ike')\n",
    "# adding edges for Ike\n",
    "g.add_edge('Fernando', 'Jane')\n",
    "# done with adding edges\n",
    "print(\"Number of Edges:\")\n",
    "print(g.number_of_edges())"
   ]
  },
  {
   "cell_type": "code",
   "execution_count": 4,
   "id": "differential-tours",
   "metadata": {},
   "outputs": [
    {
     "data": {
      "image/png": "[encoded data removed]",
      "text/plain": [
       "<Figure size 432x288 with 1 Axes>"
      ]
     },
     "metadata": {},
     "output_type": "display_data"
    }
   ],
   "source": [
    "positions = {'Andre':(0, 1), \n",
    "     'Beverly':(0, -1), \n",
    "     'Carol':(1, 2), \n",
    "     'Diane':(1, 0), \n",
    "     'Ed':(1, -2), \n",
    "     'Ike':(4, 0), \n",
    "     'Garth':(2, -1), \n",
    "     'Jane':(5, 0), \n",
    "     'Fernando':(2, 1), \n",
    "     'Heather':(3, 0)}\n",
    "nx.draw(g, positions, labels=None, node_size = 900, width = 3.5, font_size=14, font_color='b',font_family='times new roman', node_color = '#00e6b8', edge_color = \"#33ccff\")\n",
    "\n",
    "plt.title('Hello, Graph World', size=25, color='m')\n",
    "\n",
    "plt.show()"
   ]
  },
  {
   "cell_type": "code",
   "execution_count": null,
   "id": "horizontal-envelope",
   "metadata": {},
   "outputs": [],
   "source": []
  }
 ],
 "metadata": {
  "kernelspec": {
   "display_name": "Python 3",
   "language": "python",
   "name": "python3"
  },
  "language_info": {
   "codemirror_mode": {
    "name": "ipython",
    "version": 3
   },
   "file_extension": ".py",
   "mimetype": "text/x-python",
   "name": "python",
   "nbconvert_exporter": "python",
   "pygments_lexer": "ipython3",
   "version": "3.9.1"
  }
 },
 "nbformat": 4,
 "nbformat_minor": 5
}
